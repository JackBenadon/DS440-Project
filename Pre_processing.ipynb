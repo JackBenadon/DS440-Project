{
  "nbformat": 4,
  "nbformat_minor": 0,
  "metadata": {
    "colab": {
      "provenance": [],
      "mount_file_id": "1mXxUcxYjKAwmjZ-0nGLy9RG_Foj4Y_VB",
      "authorship_tag": "ABX9TyMw+LOpEff3eKXaX2RZjfVL",
      "include_colab_link": true
    },
    "kernelspec": {
      "name": "python3",
      "display_name": "Python 3"
    },
    "language_info": {
      "name": "python"
    }
  },
  "cells": [
    {
      "cell_type": "markdown",
      "metadata": {
        "id": "view-in-github",
        "colab_type": "text"
      },
      "source": [
        "<a href=\"https://colab.research.google.com/github/JackBenadon/DS440-Project/blob/main/Pre_processing.ipynb\" target=\"_parent\"><img src=\"https://colab.research.google.com/assets/colab-badge.svg\" alt=\"Open In Colab\"/></a>"
      ]
    },
    {
      "cell_type": "code",
      "source": [
        "import pandas as pd\n",
        "import numpy as np\n",
        "import matplotlib.pyplot as plt\n",
        "import seaborn as sns\n",
        "import datetime as dt\n",
        "import calendar\n",
        "import datetime\n",
        "from datetime import datetime, timedelta, date\n",
        "import warnings\n",
        "import os\n",
        "\n",
        "#settings\n",
        "pd.set_option('display.max_row', 100)\n",
        "pd.set_option('display.max_columns', 1200)\n",
        "pd.set_option('display.width', 1200)\n",
        "warnings.filterwarnings(\"ignore\")\n",
        "%matplotlib inline\n",
        "\n",
        "#variables\n",
        "colour=['maroon','r','g','darkgreen','c','teal','b','navy','indigo','m','deeppink','orange','sienna','yellow','khaki','olive','tan','black','grey','brown']\n",
        "\n",
        "print(\"Packages installed\")"
      ],
      "metadata": {
        "colab": {
          "base_uri": "https://localhost:8080/"
        },
        "id": "kRE4ztNCTrWA",
        "outputId": "ef33a786-1473-47b8-cee3-e5b011d943b9"
      },
      "execution_count": 5,
      "outputs": [
        {
          "output_type": "stream",
          "name": "stdout",
          "text": [
            "Packages installed\n"
          ]
        }
      ]
    },
    {
      "cell_type": "code",
      "execution_count": 6,
      "metadata": {
        "colab": {
          "base_uri": "https://localhost:8080/"
        },
        "id": "x1YPnE5fQkFe",
        "outputId": "883056b9-4282-4c33-9afa-794663b64e51"
      },
      "outputs": [
        {
          "output_type": "stream",
          "name": "stdout",
          "text": [
            "competitions_df (43, 10)\n",
            "clubs_df (426, 17)\n",
            "game_lineups_df (2145222, 9)\n",
            "player_valuations_df (465282, 5)\n",
            "appearances_df (1540638, 13)\n",
            "game_events_df (691486, 10)\n",
            "club_games_df (133586, 11)\n",
            "games_df (66793, 23)\n",
            "players_df (30495, 23)\n",
            "Data imported\n"
          ]
        }
      ],
      "source": [
        "# import all files in Data folder and read into dataframes\n",
        "dataframes=[]\n",
        "for dirname, _, filenames in os.walk('/content/drive/MyDrive/Senior year/Capstone/data/archive'):\n",
        "    for filename in filenames:\n",
        "        file=filename.split('.')\n",
        "        file=((file[0]+\"_df\"))\n",
        "        if file !=\"_df\":\n",
        "            filepath=os.path.join(dirname,filename)\n",
        "            df=pd.read_csv(filepath,sep=\",\",encoding = \"UTF-8\")\n",
        "            exec(f'{file} = df.copy()')\n",
        "            print(file, df.shape)\n",
        "            dataframes.append(df)\n",
        "print('Data imported')"
      ]
    }
  ]
}